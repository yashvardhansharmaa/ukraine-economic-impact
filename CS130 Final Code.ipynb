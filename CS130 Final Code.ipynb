{
 "cells": [
  {
   "cell_type": "markdown",
   "id": "97458436",
   "metadata": {},
   "source": [
    "## Note\n",
    "\n",
    "We were unable to install the `Synth` package locally. Hence, a copy of this notebook along with the output can be seem at the following Minerva Forum [link](https://sle-collaboration.minervaproject.com/?minervaNotebookId=clgq71w0300g70j2idt16bgec&userId=10865&name=Viktor+Tsvil&avatar=https%3A//s3.us-east-1.amazonaws.com/picasso.fixtures/Viktor_Tsvil_10865_2021-01-19T19%3A56%3A07.399Z&readOnly=0&isInstructor=0&signature=2e4dcfe11dd1ed06b9be8f2d910e4991b386b01ca96f99a724c442c29408d1e8).\n",
    "\n",
    "## Section 2: Replication"
   ]
  },
  {
   "cell_type": "code",
   "execution_count": 1,
   "id": "28137ebd",
   "metadata": {},
   "outputs": [
    {
     "data": {
      "text/html": [
       "<table class=\"dataframe\">\n",
       "<caption>A data.frame: 6 × 13</caption>\n",
       "<thead>\n",
       "\t<tr><th></th><th scope=col>Id</th><th scope=col>Country</th><th scope=col>Year</th><th scope=col>GDP_2011</th><th scope=col>GFCF</th><th scope=col>Inflation_prices</th><th scope=col>Polity</th><th scope=col>Export_Russia</th><th scope=col>Import_Russia</th><th scope=col>GDP_current_US</th><th scope=col>HDI</th><th scope=col>Total.Export</th><th scope=col>Total.Import</th></tr>\n",
       "\t<tr><th></th><th scope=col>&lt;int&gt;</th><th scope=col>&lt;chr&gt;</th><th scope=col>&lt;int&gt;</th><th scope=col>&lt;dbl&gt;</th><th scope=col>&lt;dbl&gt;</th><th scope=col>&lt;dbl&gt;</th><th scope=col>&lt;dbl&gt;</th><th scope=col>&lt;dbl&gt;</th><th scope=col>&lt;dbl&gt;</th><th scope=col>&lt;dbl&gt;</th><th scope=col>&lt;dbl&gt;</th><th scope=col>&lt;dbl&gt;</th><th scope=col>&lt;dbl&gt;</th></tr>\n",
       "</thead>\n",
       "<tbody>\n",
       "\t<tr><th scope=row>1</th><td>1</td><td>Armenia</td><td>1995</td><td>2173.36</td><td>16.15</td><td>175.95</td><td> 3</td><td>       NA</td><td>      NA</td><td>1468317350</td><td>0.61</td><td>351337833</td><td> 913101627</td></tr>\n",
       "\t<tr><th scope=row>2</th><td>1</td><td>Armenia</td><td>1996</td><td>2336.52</td><td>17.88</td><td> 18.68</td><td>-6</td><td>108285.75</td><td>85594.05</td><td>1596968913</td><td>0.61</td><td>371135639</td><td> 894135832</td></tr>\n",
       "\t<tr><th scope=row>3</th><td>1</td><td>Armenia</td><td>1997</td><td>2441.18</td><td>16.20</td><td> 13.96</td><td>-6</td><td> 95669.00</td><td>59675.00</td><td>1639492424</td><td>0.62</td><td>332378720</td><td> 955405626</td></tr>\n",
       "\t<tr><th scope=row>4</th><td>1</td><td>Armenia</td><td>1998</td><td>2639.95</td><td>16.22</td><td>  8.67</td><td> 5</td><td>128305.27</td><td>39245.28</td><td>1893726437</td><td>0.64</td><td>359865213</td><td>1000634291</td></tr>\n",
       "\t<tr><th scope=row>5</th><td>1</td><td>Armenia</td><td>1999</td><td>2744.43</td><td>16.42</td><td>  0.65</td><td> 5</td><td> 56878.06</td><td>27511.09</td><td>1845482181</td><td>0.64</td><td>383089747</td><td> 919091317</td></tr>\n",
       "\t<tr><th scope=row>6</th><td>1</td><td>Armenia</td><td>2000</td><td>2924.75</td><td>18.44</td><td> -0.79</td><td> 5</td><td> 27496.53</td><td>43988.44</td><td>1911563665</td><td>0.65</td><td>423629630</td><td> 957156467</td></tr>\n",
       "</tbody>\n",
       "</table>\n"
      ],
      "text/latex": [
       "A data.frame: 6 × 13\n",
       "\\begin{tabular}{r|lllllllllllll}\n",
       "  & Id & Country & Year & GDP\\_2011 & GFCF & Inflation\\_prices & Polity & Export\\_Russia & Import\\_Russia & GDP\\_current\\_US & HDI & Total.Export & Total.Import\\\\\n",
       "  & <int> & <chr> & <int> & <dbl> & <dbl> & <dbl> & <dbl> & <dbl> & <dbl> & <dbl> & <dbl> & <dbl> & <dbl>\\\\\n",
       "\\hline\n",
       "\t1 & 1 & Armenia & 1995 & 2173.36 & 16.15 & 175.95 &  3 &        NA &       NA & 1468317350 & 0.61 & 351337833 &  913101627\\\\\n",
       "\t2 & 1 & Armenia & 1996 & 2336.52 & 17.88 &  18.68 & -6 & 108285.75 & 85594.05 & 1596968913 & 0.61 & 371135639 &  894135832\\\\\n",
       "\t3 & 1 & Armenia & 1997 & 2441.18 & 16.20 &  13.96 & -6 &  95669.00 & 59675.00 & 1639492424 & 0.62 & 332378720 &  955405626\\\\\n",
       "\t4 & 1 & Armenia & 1998 & 2639.95 & 16.22 &   8.67 &  5 & 128305.27 & 39245.28 & 1893726437 & 0.64 & 359865213 & 1000634291\\\\\n",
       "\t5 & 1 & Armenia & 1999 & 2744.43 & 16.42 &   0.65 &  5 &  56878.06 & 27511.09 & 1845482181 & 0.64 & 383089747 &  919091317\\\\\n",
       "\t6 & 1 & Armenia & 2000 & 2924.75 & 18.44 &  -0.79 &  5 &  27496.53 & 43988.44 & 1911563665 & 0.65 & 423629630 &  957156467\\\\\n",
       "\\end{tabular}\n"
      ],
      "text/markdown": [
       "\n",
       "A data.frame: 6 × 13\n",
       "\n",
       "| <!--/--> | Id &lt;int&gt; | Country &lt;chr&gt; | Year &lt;int&gt; | GDP_2011 &lt;dbl&gt; | GFCF &lt;dbl&gt; | Inflation_prices &lt;dbl&gt; | Polity &lt;dbl&gt; | Export_Russia &lt;dbl&gt; | Import_Russia &lt;dbl&gt; | GDP_current_US &lt;dbl&gt; | HDI &lt;dbl&gt; | Total.Export &lt;dbl&gt; | Total.Import &lt;dbl&gt; |\n",
       "|---|---|---|---|---|---|---|---|---|---|---|---|---|---|\n",
       "| 1 | 1 | Armenia | 1995 | 2173.36 | 16.15 | 175.95 |  3 |        NA |       NA | 1468317350 | 0.61 | 351337833 |  913101627 |\n",
       "| 2 | 1 | Armenia | 1996 | 2336.52 | 17.88 |  18.68 | -6 | 108285.75 | 85594.05 | 1596968913 | 0.61 | 371135639 |  894135832 |\n",
       "| 3 | 1 | Armenia | 1997 | 2441.18 | 16.20 |  13.96 | -6 |  95669.00 | 59675.00 | 1639492424 | 0.62 | 332378720 |  955405626 |\n",
       "| 4 | 1 | Armenia | 1998 | 2639.95 | 16.22 |   8.67 |  5 | 128305.27 | 39245.28 | 1893726437 | 0.64 | 359865213 | 1000634291 |\n",
       "| 5 | 1 | Armenia | 1999 | 2744.43 | 16.42 |   0.65 |  5 |  56878.06 | 27511.09 | 1845482181 | 0.64 | 383089747 |  919091317 |\n",
       "| 6 | 1 | Armenia | 2000 | 2924.75 | 18.44 |  -0.79 |  5 |  27496.53 | 43988.44 | 1911563665 | 0.65 | 423629630 |  957156467 |\n",
       "\n"
      ],
      "text/plain": [
       "  Id Country Year GDP_2011 GFCF  Inflation_prices Polity Export_Russia\n",
       "1 1  Armenia 1995 2173.36  16.15 175.95            3            NA    \n",
       "2 1  Armenia 1996 2336.52  17.88  18.68           -6     108285.75    \n",
       "3 1  Armenia 1997 2441.18  16.20  13.96           -6      95669.00    \n",
       "4 1  Armenia 1998 2639.95  16.22   8.67            5     128305.27    \n",
       "5 1  Armenia 1999 2744.43  16.42   0.65            5      56878.06    \n",
       "6 1  Armenia 2000 2924.75  18.44  -0.79            5      27496.53    \n",
       "  Import_Russia GDP_current_US HDI  Total.Export Total.Import\n",
       "1       NA      1468317350     0.61 351337833     913101627  \n",
       "2 85594.05      1596968913     0.61 371135639     894135832  \n",
       "3 59675.00      1639492424     0.62 332378720     955405626  \n",
       "4 39245.28      1893726437     0.64 359865213    1000634291  \n",
       "5 27511.09      1845482181     0.64 383089747     919091317  \n",
       "6 43988.44      1911563665     0.65 423629630     957156467  "
      ]
     },
     "metadata": {},
     "output_type": "display_data"
    }
   ],
   "source": [
    "# importing the dataset\n",
    "countries <- read.csv('https://docs.google.com/spreadsheets/d/e/2PACX-1vRLoQG5MffxU2wwyrZK4c8STty86OVFyf9VToHBP_3KR1B_BQPUYXtogye9h2IapxIqt0f4P4BZQcSW/pub?gid=1300915934&single=true&output=csv')\n",
    "\n",
    "# Convert to character to be compatible with dataprep\n",
    "countries$Country <- as.character(countries$Country) \n",
    "head(countries)"
   ]
  },
  {
   "cell_type": "code",
   "execution_count": 5,
   "id": "e324b030",
   "metadata": {},
   "outputs": [
    {
     "name": "stderr",
     "output_type": "stream",
     "text": [
      "Installing package into ‘/home/viktor/R/x86_64-pc-linux-gnu-library/4.2’\n",
      "(as ‘lib’ is unspecified)\n",
      "\n",
      "Warning message:\n",
      "“package ‘synth’ is not available for this version of R\n",
      "\n",
      "A version of this package for your version of R might be available elsewhere,\n",
      "see the ideas at\n",
      "https://cran.r-project.org/doc/manuals/r-patched/R-admin.html#Installing-packages”\n",
      "Loading required package: Synth\n",
      "\n",
      "Warning message in library(package, lib.loc = lib.loc, character.only = TRUE, logical.return = TRUE, :\n",
      "“there is no package called ‘Synth’”\n"
     ]
    },
    {
     "ename": "ERROR",
     "evalue": "Error in dataprep(foo = countries, predictors = c(\"russia_trade_dependence\", : could not find function \"dataprep\"\n",
     "output_type": "error",
     "traceback": [
      "Error in dataprep(foo = countries, predictors = c(\"russia_trade_dependence\", : could not find function \"dataprep\"\nTraceback:\n"
     ]
    }
   ],
   "source": [
    "install.packages('synth')\n",
    "require(Synth)\n",
    "\n",
    "# obtain the score of trade dependency with Russia\n",
    "countries$export_russia_share_GDP = countries$Import_Russia * 1000 / countries$GDP_current_US \n",
    "countries$import_russia_share_GDP = countries$Export_Russia * 1000 / countries$GDP_current_US \n",
    "countries$export_russia_share_export = countries$export_russia_share_GDP * 100 / countries$Total.Export\t\n",
    "countries$import_russia_share_import = countries$import_russia_share_GDP * 100 / countries$Total.Import\t\n",
    "countries$russia_trade_dependence = countries$export_russia_share_GDP + countries$import_russia_share_GDP # aggregate trade amount  \n",
    "\n",
    "syn <- dataprep(\n",
    "  foo = countries, \n",
    "  predictors = c('russia_trade_dependence', 'HDI', 'Polity', 'Inflation_prices', 'GFCF'), \n",
    "  special.predictors = list(\n",
    "    list('GDP_2011', 2000, \"mean\"),\n",
    "    list('GDP_2011', 2012, \"mean\")\n",
    "  ),\n",
    "  dependent = \"GDP_2011\", \n",
    "  unit.variable = \"Id\",\n",
    "  time.variable = \"Year\",\n",
    "  controls.identifier = c(1:17),  # control units\n",
    "  treatment.identifier = 18,  # treatment unit\n",
    "  time.predictors.prior = c(1995:2012),  # pre-treatment\n",
    "  time.optimize.ssr = c(1995:2012), \n",
    "  time.plot = c(1995:2017),  # total timeframe\n",
    "  unit.names.variable = 'Country')\n",
    "\n",
    "# perform optimization \n",
    "synth.out <- synth(syn)\n",
    "\n",
    "# show the results \n",
    "synth.tables <- synth.tab(\n",
    "  dataprep.res = syn,\n",
    "  synth.res = synth.out)\n",
    "print(synth.tables)\n",
    "\n",
    "# show the differences in GDP between Ukraine and synthetic unit\n",
    "syn$Y1plot - (syn$Y0plot %*% synth.out$solution.w)\n",
    "mean((syn$Y1plot - (syn$Y0plot %*% synth.out$solution.w))[2013:2017])\n",
    "\n",
    "path.plot(dataprep.res = syn, synth.res = synth.out, Legend.position=c(\"topleft\"), Ylab = 'per capita GDP, 2011 international dollars (PPP)')\n",
    "abline(v=2012)"
   ]
  },
  {
   "cell_type": "markdown",
   "id": "b7ddff51",
   "metadata": {},
   "source": [
    "## Part 3 Extension 1 (Extending Timeframe)"
   ]
  },
  {
   "cell_type": "code",
   "execution_count": null,
   "id": "2d6851c1",
   "metadata": {},
   "outputs": [],
   "source": [
    "# extended data link\n",
    "p3i1.link = \"https://docs.google.com/spreadsheets/d/e/2PACX-1vRLoQG5MffxU2wwyrZK4c8STty86OVFyf9VToHBP_3KR1B_BQPUYXtogye9h2IapxIqt0f4P4BZQcSW/pub?gid=1793425122&single=true&output=csv\"\n",
    "countries <- read.csv(p3i1.link)\n",
    "\n",
    "countries$Country <- as.character(countries$Country)\n",
    "countries$export_russia_share_GDP = countries$Import_Russia * 1000 / countries$GDP_current_US # in thouands of USD \n",
    "countries$import_russia_share_GDP = countries$Export_Russia * 1000 / countries$GDP_current_US # in thousands of USD\n",
    "countries$export_russia_share_export = countries$export_russia_share_GDP * 100 / countries$Total.Export\t\n",
    "countries$import_russia_share_import = countries$import_russia_share_GDP * 100 / countries$Total.Import\t\n",
    "countries$russia_trade_dependence = countries$export_russia_share_GDP + countries$import_russia_share_GDP # aggregate trade amount  \n",
    "\n",
    "syn <- dataprep(\n",
    "  foo = countries, \n",
    "  predictors = c('russia_trade_dependence', 'HDI', 'Polity', 'Inflation_prices', 'GFCF'), \n",
    "  special.predictors = list(\n",
    "    list('GDPpc2017', 2000, \"mean\"),\n",
    "    list('GDPpc2017', 2012, \"mean\"), \n",
    "    list('GDPpc2017', 2008, \"mean\") \n",
    "  ),\n",
    "  dependent = \"GDPpc2017\", \n",
    "  unit.variable = \"Id\",\n",
    "  time.variable = \"Time\", \n",
    "  controls.identifier = c(1:17), \n",
    "  treatment.identifier = 18, \n",
    "  time.predictors.prior = c(1995:2012),\n",
    "  time.optimize.ssr = c(1995:2012), \n",
    "  time.plot = c(1995:2021),\n",
    "  unit.names.variable = 'Country')\n",
    "\n",
    "#Perform the optimization procedure\n",
    "synth.out <- synth(\n",
    "    syn,\n",
    "    custom.v = c(0.2653768, 0.0001054143, 0.02362027, 0.031404951, 0.005282442, 0.07510658, 0.2386713, 0.3604323), #uncomment\n",
    ")\n",
    "\n",
    "#Show the results of SCM\n",
    "synth.tables <- synth.tab(\n",
    "  dataprep.res = syn,\n",
    "  synth.res = synth.out)\n",
    "print(synth.tables)\n",
    "\n",
    "#Differences in GDP between Ukraine and synthetic unit\n",
    "syn$Y1plot - (syn$Y0plot %*% synth.out$solution.w)\n",
    "\n",
    "path.plot(dataprep.res = syn, synth.res = synth.out, Legend.position=c(\"topleft\"), Ylab = 'per capita GDP, 2017 international dollars (PPP)', Xlab = 'Time\\nOriginal Donor Pool')\n",
    "abline(v=2012)\n",
    "abline(v=2012, type='dashed')"
   ]
  },
  {
   "cell_type": "markdown",
   "id": "51c4e7a2",
   "metadata": {},
   "source": [
    "## Part 3 Extension Idea 1 + 2 (Extending Timeframe + Excluding Countries)\n"
   ]
  },
  {
   "cell_type": "code",
   "execution_count": null,
   "id": "c74236ce",
   "metadata": {},
   "outputs": [],
   "source": [
    "head(countries)\n",
    "\n",
    "syn <- dataprep(\n",
    "  foo = countries, \n",
    "  predictors = c('russia_trade_dependence', 'HDI', 'Polity', 'Inflation_prices', 'GFCF'), \n",
    "  special.predictors = list(\n",
    "    list('GDPpc2017', 2000, \"mean\"),\n",
    "    list('GDPpc2017', 2012, \"mean\")\n",
    "  ),\n",
    "  dependent = \"GDPpc2017\", \n",
    "  unit.variable = \"Id\",\n",
    "  time.variable = \"Time\",\n",
    "  controls.identifier = c(3:7, 9:14, 17),      # <--------- look at this line excludes 5 countries with the 6+ month long conflicts in time between 1995 and 2012 ('Armenia', 'Azerbaijan', 'Tajikistan', 'Kazakhstan', 'Kyrgyz Republic')\n",
    "  treatment.identifier = 18, \n",
    "  time.predictors.prior = c(1995:2012),\n",
    "  time.optimize.ssr = c(1995:2012), \n",
    "  time.plot = c(1995:2021),\n",
    "  unit.names.variable = 'Country')\n",
    "\n",
    "#Perform the optimization procedure\n",
    "synth.out <- synth(\n",
    "    syn,\n",
    ")\n",
    "\n",
    "#Show the results of SCM\n",
    "synth.tables <- synth.tab(\n",
    "  dataprep.res = syn,\n",
    "  synth.res = synth.out)\n",
    "print(synth.tables)\n",
    "\n",
    "#Differences in GDP between Ukraine and synthetic unit\n",
    "syn$Y1plot - (syn$Y0plot %*% synth.out$solution.w)\n",
    "\n",
    "path.plot(dataprep.res = syn, synth.res = synth.out, Legend.position=c(\"topleft\"), Ylab = 'per capita GDP, 2017 international dollars (PPP)', Xlab = 'Time\\nAdjusted Donor Pool')\n",
    "abline(v=2012)"
   ]
  }
 ],
 "metadata": {
  "kernelspec": {
   "display_name": "R",
   "language": "R",
   "name": "ir"
  },
  "language_info": {
   "codemirror_mode": "r",
   "file_extension": ".r",
   "mimetype": "text/x-r-source",
   "name": "R",
   "pygments_lexer": "r",
   "version": "4.2.2"
  }
 },
 "nbformat": 4,
 "nbformat_minor": 5
}
